{
 "cells": [
  {
   "cell_type": "markdown",
   "id": "fd1558ab",
   "metadata": {},
   "source": [
    "## Einführung in Machine Learning"
   ]
  },
  {
   "cell_type": "markdown",
   "id": "ef69d6ae",
   "metadata": {},
   "source": [
    "## Kurzhinweise\n",
    "Sie können eine Zelle ausführen, indem Sie in die Zelle klicken und dann \"Shift + Enter\" drücken.\n",
    "\n",
    "Bitte führen Sie die Zellen nacheinander aus, da einige Zellen auf den Input vorheriger Zellen angewiesen sind. Falls Sie \"mitten im Notebook\" anfangen werden Sie das aber ggf. merken, wenn Sie eine Fehlermeldung erhalten.\n",
    "\n",
    "Die nächste Zelle bitte ausführen aber **nicht** verändern. Sie sorgt für das Layout des Notebooks."
   ]
  },
  {
   "cell_type": "code",
   "execution_count": null,
   "id": "f1e0dc72",
   "metadata": {},
   "outputs": [],
   "source": [
    "from IPython.core.display import HTML\n",
    "\n",
    "def _set_css_style(css_file_path):\n",
    "   \"\"\"\n",
    "   Read the custom CSS file and load it into Jupyter.\n",
    "   Pass the file path to the CSS file.\n",
    "   \"\"\"\n",
    "\n",
    "   styles = open(css_file_path, \"r\").read()\n",
    "   s = '<style>%s</style>' % styles     \n",
    "   return HTML(s)\n",
    "\n",
    "_set_css_style('assets/styles.css')"
   ]
  },
  {
   "cell_type": "markdown",
   "id": "94eae630",
   "metadata": {},
   "source": [
    "## Import der benötigten Pakete\n",
    "Die nächste Zelle müssen Sie ausführen, um die benötigten Python Pakete für das Notebook zu importieren."
   ]
  },
  {
   "cell_type": "code",
   "execution_count": null,
   "id": "68241d71",
   "metadata": {},
   "outputs": [],
   "source": [
    "# Pakete für Machine Learning\n",
    "from sklearn.datasets import load_iris\n",
    "from sklearn import tree\n",
    "from sklearn.model_selection import train_test_split #zur Aufteilung des Datensatzes in Trainings- und Testdaten\n",
    "from sklearn.tree import DecisionTreeClassifier #Entscheidungsbaum (Supervised Learning)\n",
    "from sklearn.cluster import KMeans #KMeans (Unsupervised Learning)\n",
    "\n",
    "# For computation\n",
    "import pandas as pd\n",
    "\n",
    "# For plotting\n",
    "import matplotlib.pyplot as plt\n",
    "import matplotlib"
   ]
  },
  {
   "cell_type": "markdown",
   "id": "28f9f1f0",
   "metadata": {},
   "source": [
    "## Datenset"
   ]
  },
  {
   "cell_type": "code",
   "execution_count": null,
   "id": "d5ae2786",
   "metadata": {},
   "outputs": [],
   "source": [
    "# Laden des Datensets\n",
    "iris = load_iris()"
   ]
  },
  {
   "cell_type": "markdown",
   "id": "f0e3e575",
   "metadata": {},
   "source": [
    "<div class=\"fancy-box definition\">\n",
    "<div class=\"fancy-box__img\"></div>\n",
    "<div class=\"fancy-box__text\">\n",
    "Das Datenset besteht aus 3 verschiedenen Arten von Schwertlilien (Setosa, Versicolour, and Virginica). <br/><br/>\n",
    "Die Dimensionen des Blütenblattes und des Kelchblattes sind in einer 150x4 Matrix abgespeichert (s. Output der nächsten Codezeile) <br/><br/>\n",
    "Die Zeilen repräsentieren die Samples (jeweils eine vermessene Blume).<br/><br/>\n",
    "Die Spalten stehen für: Länge Blütenblatt, Breite Blütenblatt, Länge Kelchblatt, Breite Kelchblatt\n",
    "</div>\n",
    "<div class=\"fancy-box__img\"></div>\n",
    "</div>"
   ]
  },
  {
   "cell_type": "code",
   "execution_count": null,
   "id": "c5c55106",
   "metadata": {},
   "outputs": [],
   "source": [
    "iris.data"
   ]
  },
  {
   "cell_type": "markdown",
   "id": "8281d5c4",
   "metadata": {},
   "source": [
    "<div class=\"fancy-box definition\">\n",
    "<div class=\"fancy-box__img\"></div>\n",
    "<div class=\"fancy-box__text\">\n",
    "Die Target Variable (s. nächsten Output) gibt an, zu welchen Blütenblatt- bzw. Kelchblattdimensionen welche Schwertlilienart gehört. <br/><br/>\n",
    "    Technisch bedeutet das, zur ersten \n",
    "Zeile der Matrix aus der vorherigen Zelle gehört der erste Eintrag des Vektors aus dem nun folgenden Output usw.<br/><br/>\n",
    "\n",
    "</div>\n",
    "<div class=\"fancy-box__img\"></div>\n",
    "</div>"
   ]
  },
  {
   "cell_type": "code",
   "execution_count": null,
   "id": "e3fd0b6a",
   "metadata": {},
   "outputs": [],
   "source": [
    "iris.target_names[iris.target]"
   ]
  },
  {
   "cell_type": "markdown",
   "id": "548200c9",
   "metadata": {},
   "source": [
    "## Supervised Learning"
   ]
  },
  {
   "attachments": {},
   "cell_type": "markdown",
   "id": "3f722c9c",
   "metadata": {},
   "source": [
    "<div class=\"fancy-box definition\">\n",
    "<div class=\"fancy-box__img\"></div>\n",
    "<div class=\"fancy-box__text\">\n",
    "Supervised Learning (dt. überwachtes Lernen) zeichnet sich dadurch aus, \n",
    "dass ein Datensatz für das Modelltraining vorhanden ist, der die Lösung zur gegebenen Aufgabe beinhaltet. Mit dem trainierten Modell kann dann eine Vorhersage über das korrekte Ergebnis basierend auf unbekannten Daten getroffen werden.\n",
    "</div>\n",
    "<div class=\"fancy-box__img\"></div>\n",
    "</div>"
   ]
  },
  {
   "cell_type": "markdown",
   "id": "4df37cc6",
   "metadata": {},
   "source": [
    "<div class=\"fancy-box question\">\n",
    "<div class=\"fancy-box__img\"></div>\n",
    "<div class=\"fancy-box__text\">\n",
    "<b>Beispiel:</b><br/><br/>\n",
    "    In unserem Datenset haben wir zu allen 150 Messungen das Ergebnis, zu welcher Lilienart die Blume gehört. Deshalb spricht man hier von gelabelten Daten.<br/><br/>\n",
    "    Ziel ist nun auf Basis der 150 Beobachtungen vorhersagen zu treffen, zu welcher Schwertlilienart eine unbekannte Blume \n",
    "mit gewissen Dimensionen gehört<br/><br/>\n",
    "    Nehmen Sie an, Sie finden eine Blume, von der Sie nur wissen, dass es eine Schwertlilie ist, aber nicht welche Art. Sie messen die Dimensionen des Blüten- und Kelchblattes mit 4.7, 4, 3, 1.9.<br/><br/>\n",
    "    Schauen wir mal, ob ein trainiertes Machine Learning Modell uns hier weiterhelfen kann.\n",
    "</div>\n",
    "<div class=\"fancy-box__img\"></div>\n",
    "</div>"
   ]
  },
  {
   "cell_type": "markdown",
   "id": "7c480154",
   "metadata": {},
   "source": [
    "<div class=\"fancy-box python\">\n",
    "<div class=\"fancy-box__img\"></div>\n",
    "<div class=\"fancy-box__text\">\n",
    "    Im folgenden Code wird ein Entscheidungsbaum (bestimmte Art von Modell) trainiert, der auf Basis der Dimensionen vorhersagen soll, zu welcher Lilienart\n",
    "    eine Blume gehört.<br/><br/>\n",
    "    Wir nutzen hierzu unser Datenset bestehend aus 150 Einträgen. Wir teilen das Datenset zunächst zufällig in Trainings- und Testdaten. Die Trainingsdaten (80% der Daten) werden zum Trainieren des Modells verwendet, die Testdaten (20% der Daten) um danach zu validieren, wie gut unser trainiertes Modell Vorhersagen treffen kann. \n",
    "</div>\n",
    "<div class=\"fancy-box__img\"></div>\n",
    "</div>\n"
   ]
  },
  {
   "cell_type": "code",
   "execution_count": null,
   "id": "332c4137",
   "metadata": {},
   "outputs": [],
   "source": [
    "#Split des Datenset in 80% Trainingsdaten und 20% Testdaten\n",
    "X_train, X_test, y_train, y_test = train_test_split(iris.data, iris.target, random_state = 1, test_size = 0.2)\n",
    "\n",
    "#Instanziierung eines Entscheidungsbaum für Klassifizierung\n",
    "decision_tree = DecisionTreeClassifier(random_state=0, max_depth=2)\n",
    "\n",
    "#Hier passiert das Training des Entscheidungsbaumes auf Basis der Trainingsdaten\n",
    "decision_tree = decision_tree.fit(X_train, y_train)\n",
    "\n",
    "# Hier wird auf Basis der Testdaten berechnet, wie gut unser Modell vorhersagen treffen kann\n",
    "accuracy = round(decision_tree.score(X_test, y_test) * 100, 2)\n",
    "\n",
    "print('In '+ str(accuracy)+'% hat das Modell auf den Testdaten das richtige Ergebnis vorhergesagt.')"
   ]
  },
  {
   "cell_type": "code",
   "execution_count": null,
   "id": "2101b4c0-0066-4760-ae76-ff1327e99a2d",
   "metadata": {},
   "outputs": [],
   "source": [
    "iris.data"
   ]
  },
  {
   "cell_type": "code",
   "execution_count": null,
   "id": "c0b657c4",
   "metadata": {},
   "outputs": [],
   "source": [
    "# Plot des Entscheidungsbaumes. Wird in der Vorlesung zusammen mit Methode erklärt\n",
    "tree.plot_tree(decision_tree)"
   ]
  },
  {
   "cell_type": "markdown",
   "id": "63f1364c",
   "metadata": {},
   "source": [
    "<div class=\"fancy-box python\">\n",
    "<div class=\"fancy-box__img\"></div>\n",
    "<div class=\"fancy-box__text\">\n",
    "    Im folgenden Code treffen wir eine Vorhersage über unsere vermessene Lilie mit den Dimensionen 4.7, 4, 3, 1.9 \n",
    "</div>\n",
    "<div class=\"fancy-box__img\"></div>\n",
    "</div>"
   ]
  },
  {
   "cell_type": "code",
   "execution_count": null,
   "id": "146fadf8",
   "metadata": {},
   "outputs": [],
   "source": [
    "#Dimensionen\n",
    "dimensions = [[4.7, 4, 3, 1.9]]\n",
    "#Vorhersage der Lilienart\n",
    "pred_class = decision_tree.predict(dimensions)\n",
    "#Vorhersage der Wahrscheinlichkeit\n",
    "pred_prob = decision_tree.predict_proba(dimensions)\n",
    "\n",
    "print('Mit '+ str(round(pred_prob[0,pred_class][0]*100,2))+' % hat das Modell die Lilienart '+str(iris.target_names[pred_class[0]])+' vorhergesagt.')"
   ]
  },
  {
   "cell_type": "markdown",
   "id": "bd722e03",
   "metadata": {},
   "source": [
    "## Unsupervised Learning"
   ]
  },
  {
   "cell_type": "markdown",
   "id": "f160a57e",
   "metadata": {},
   "source": [
    "<div class=\"fancy-box definition\">\n",
    "<div class=\"fancy-box__img\"></div>\n",
    "<div class=\"fancy-box__text\">\n",
    "Unsupervised Learning (dt. unüberwachtes Lernen) zeichnet sich dadurch aus, \n",
    "dass es kein Ergebnis zu den einzelnen Datensätzen gibt (unlabeled data). Vielmehr probiert das Modell\n",
    "Muster in den Daten zu erkennen und die Datenpunkte nach diesem Muster zu clustern.\n",
    "</div>\n",
    "<div class=\"fancy-box__img\"></div>\n",
    "</div>"
   ]
  },
  {
   "cell_type": "markdown",
   "id": "838a9391",
   "metadata": {},
   "source": [
    "<div class=\"fancy-box question\">\n",
    "<div class=\"fancy-box__img\"></div>\n",
    "<div class=\"fancy-box__text\">\n",
    "<b>Beispiel:</b><br/><br/>\n",
    "    Nehmen wir an, wir haben ein anderes Datenset über Blütenabmessungen, welches aus einer 300x2 Matrix (nur 2 Dimensionen zur besseren Visualisierung) ohne Ergebnisse bestehen (unlabeled data). \n",
    "    Ziel ist es nun auf Basis dieser 300 Messungen Pflanzen jeweils nach ihrer Art zu sortieren (zu clustern), ohne zu wissen,\n",
    "    um welche Art es sich genau handelt.<br/><br/>\n",
    "    Nehmen Sie wie oben an, Sie finden eine Blume, mit Dimensionen des Blüten- und Kelchblattes mit 4.7, 4, 3, 1.9.<br/><br/>\n",
    "    Schauen wir mal, welchem Cluster unser Algorithmus unsere unbekannte Blume zuordnen würde.\n",
    "</div>\n",
    "<div class=\"fancy-box__img\"></div>\n",
    "</div>"
   ]
  },
  {
   "cell_type": "code",
   "execution_count": null,
   "id": "37bd513e-42d4-415a-9b60-76e6257d195f",
   "metadata": {},
   "outputs": [],
   "source": [
    "# Neues Datenset einlesen\n",
    "df = pd.read_csv('input/clustering_data.csv', delimiter=\",\")"
   ]
  },
  {
   "cell_type": "code",
   "execution_count": null,
   "id": "d064b596-3a6c-4f76-a60f-bca390b2f6f3",
   "metadata": {},
   "outputs": [],
   "source": [
    "# Die ersten 5 Reihen des Dataframes\n",
    "df.head()"
   ]
  },
  {
   "cell_type": "code",
   "execution_count": null,
   "id": "453882f2-b202-4bfa-8f32-3b2ddc9c1bd9",
   "metadata": {},
   "outputs": [],
   "source": [
    "# descriptive statistics\n",
    "df.describe()"
   ]
  },
  {
   "cell_type": "code",
   "execution_count": null,
   "id": "493c1191-5551-4e39-a0a0-5d2e0b98f1a8",
   "metadata": {},
   "outputs": [],
   "source": [
    "# Getting a scatter plot to visualize both dimensions simultaneously\n",
    "plt.rcParams[\"figure.figsize\"] = (4,3)\n",
    "plt.scatter(df[\"Width\"], df[\"Length\"])\n",
    "plt.xlabel('Width')\n",
    "plt.ylabel('Length')\n",
    "plt.show()"
   ]
  },
  {
   "cell_type": "markdown",
   "id": "babdaee4",
   "metadata": {},
   "source": [
    "<div class=\"fancy-box python\">\n",
    "<div class=\"fancy-box__img\"></div>\n",
    "<div class=\"fancy-box__text\">\n",
    "    Im folgenden Code wird der NearestNeighbors Algorithmus trainiert, der auf Basis der Dimensionen vorhersagen soll, zu welchem Cluster eine Blume gehört.<br/><br/>\n",
    "    <b>Achtung:</b> Den Datensatz müssen wir hier nicht in Trainings- und Testdaten teilen, da wir annehmen, dass wir kein Ergebnis haben. \n",
    "</div>\n",
    "<div class=\"fancy-box__img\"></div>\n",
    "</div>"
   ]
  },
  {
   "cell_type": "code",
   "execution_count": null,
   "id": "b3d859ce",
   "metadata": {},
   "outputs": [],
   "source": [
    "#Instanziierung des KMeans um die Cluster zu bestimmen\n",
    "kmeans = KMeans(n_clusters=2, random_state=0)\n",
    "#Hier passiert die Berechnung der Cluster auf Basis des gesamten Datensatzes\n",
    "kmeans = kmeans.fit(df)"
   ]
  },
  {
   "cell_type": "code",
   "execution_count": null,
   "id": "2d14f3ac",
   "metadata": {},
   "outputs": [],
   "source": [
    "# Clustermittelpunkte berechnen\n",
    "# Koordinaten ausgeben\n",
    "print(\"Coordinates of the centroids: \\n\", kmeans.cluster_centers_)\n",
    "\n",
    "# Visualisierung\n",
    "plt.scatter(df[\"Width\"], df[\"Length\"], c='blue')\n",
    "centers = kmeans.cluster_centers_\n",
    "plt.scatter(centers[:, 0], centers[:, 1], c='red', s=200, alpha=0.5);\n",
    "plt.xlabel('Width')\n",
    "plt.ylabel('Length')\n",
    "plt.show()\n",
    "\n",
    "# Kostenfunktion: Ergebnis der Minimierung\n",
    "print('\\033[1m  Distortion of the resulting clustering for two clusters \\033[0m')\n",
    "print(kmeans.inertia_)"
   ]
  },
  {
   "cell_type": "code",
   "execution_count": null,
   "id": "16a2e8b3-7d66-4ff7-82c9-ce6f89fa8dea",
   "metadata": {},
   "outputs": [],
   "source": [
    "# Und jetzt alles noch einmal mit drei Clustern\n",
    "kmeans2 = KMeans(n_clusters=3, random_state=0)\n",
    "kmeans2.fit(df)\n",
    "\n",
    "# Koordinaten ausgeben\n",
    "print(\"Coordinates of the centroids: \\n\", kmeans2.cluster_centers_)\n",
    "\n",
    "# Visualisierung\n",
    "plt.scatter(df[\"Width\"], df[\"Length\"], c='blue')\n",
    "centers2 = kmeans2.cluster_centers_\n",
    "plt.scatter(centers2[:, 0], centers2[:, 1], c='red', s=200, alpha=0.5);\n",
    "plt.xlabel('Width')\n",
    "plt.ylabel('Length')\n",
    "plt.show()\n",
    "\n",
    "# Kostenfunktion: Ergebnis der Minimierung\n",
    "print('\\033[1m  Distortion of the resulting clustering for three clusters \\033[0m')\n",
    "print(kmeans2.inertia_)"
   ]
  },
  {
   "cell_type": "markdown",
   "id": "2c9185a8-5cc5-40e7-8905-e4da7e5b8060",
   "metadata": {},
   "source": [
    "<div class=\"fancy-box definition\">\n",
    "<div class=\"fancy-box__img\"></div>\n",
    "<div class=\"fancy-box__text\">\n",
    "Die Bestimmung der Anzahl der Cluster ist ein wichtiges Thema für K-Means. Ein einfacher iterativer Versuch-und-Irrtum-Ansatz, die Ellbogenmethode, bietet eine mögliche Schätzmethode \n",
    "zur Bestimmung dieses Parameters. Die Idee besteht darin, die Distortion, die quadrierte Summe der Abstände zu den Clustermittelpunkten, zu nehmen und sie für einen Bereich von Clusterzahlen\n",
    "zu visualisieren. Die Intuition ist, dass ab einer bestimmten Anzahl von Clustern keine Verbesserung durch Hinzufügen weiterer Cluster erreicht wird, was bedeutet, dass der zusätzliche Cluster\n",
    "irgendwo in der Nähe der bestehenden Cluster liegt und nicht wesentlich zur Verringerung der Kostenfunktion beiträgt. Die Illustration für unseren Fall ist unten dargestellt:\n",
    "</div>\n",
    "<div class=\"fancy-box__img\"></div>\n",
    "</div>"
   ]
  },
  {
   "cell_type": "code",
   "execution_count": null,
   "id": "b87a7c28-f519-4fa1-9f2d-22a232cae236",
   "metadata": {},
   "outputs": [],
   "source": [
    "# Liste, um die Werte der Kostenfunktion zu speichern\n",
    "distortions = []\n",
    "\n",
    "# Verschiedene Anzahl an Clustern\n",
    "K = range(1,10)\n",
    "\n",
    "# Loop, um Modell mit dieser Anzahl zu trainieren\n",
    "for k in K:\n",
    "    # Performing K-Means für die gegebene Clusteranzahl\n",
    "    kmeanModel = KMeans(n_clusters=k, random_state=0).fit(df)\n",
    "    # Ermittlung des Wertes der Kostenfunktion und Speicherung in Liste\n",
    "    distortions.append(kmeanModel.inertia_)\n",
    "    \n",
    "# Visualisierung\n",
    "plt.plot(K, distortions, 'ro-')\n",
    "plt.xlabel('Number of Clusters')\n",
    "plt.ylabel('Distortion')\n",
    "plt.title('The Elbow Method for Cluster Number')\n",
    "plt.show()"
   ]
  },
  {
   "cell_type": "markdown",
   "id": "5c629602",
   "metadata": {},
   "source": [
    "<div class=\"fancy-box python\">\n",
    "<div class=\"fancy-box__img\"></div>\n",
    "<div class=\"fancy-box__text\">\n",
    "    Im folgenden Code bestimmen wir die Clusterzuordnung von Blumen mit verschiedenen Abmessungen.</div>\n",
    "<div class=\"fancy-box__img\"></div>\n",
    "</div>"
   ]
  },
  {
   "cell_type": "code",
   "execution_count": null,
   "id": "5f9dfb8b",
   "metadata": {},
   "outputs": [],
   "source": [
    "#Dimensionen\n",
    "dimensions = [[2,8], [6,10], [6,1], [5,8]]\n",
    "#Vorhersage des Clusters\n",
    "kmeans2.predict(dimensions)"
   ]
  },
  {
   "cell_type": "code",
   "execution_count": null,
   "id": "90188ad3-3cb9-441e-a867-e973149bc8b9",
   "metadata": {},
   "outputs": [],
   "source": []
  }
 ],
 "metadata": {
  "kernelspec": {
   "display_name": "tutorial",
   "language": "python",
   "name": "tutorial"
  },
  "language_info": {
   "codemirror_mode": {
    "name": "ipython",
    "version": 3
   },
   "file_extension": ".py",
   "mimetype": "text/x-python",
   "name": "python",
   "nbconvert_exporter": "python",
   "pygments_lexer": "ipython3",
   "version": "3.10.10"
  }
 },
 "nbformat": 4,
 "nbformat_minor": 5
}
